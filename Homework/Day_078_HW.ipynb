{
  "nbformat": 4,
  "nbformat_minor": 0,
  "metadata": {
    "kernelspec": {
      "display_name": "Python 3",
      "language": "python",
      "name": "python3"
    },
    "language_info": {
      "codemirror_mode": {
        "name": "ipython",
        "version": 3
      },
      "file_extension": ".py",
      "mimetype": "text/x-python",
      "name": "python",
      "nbconvert_exporter": "python",
      "pygments_lexer": "ipython3",
      "version": "3.6.5"
    },
    "colab": {
      "name": "Day078_HW.ipynb",
      "provenance": [],
      "collapsed_sections": []
    },
    "accelerator": "GPU"
  },
  "cells": [
    {
      "cell_type": "markdown",
      "metadata": {
        "id": "ho4k6KmiZhc3",
        "colab_type": "text"
      },
      "source": [
        "## Work\n",
        "1. 請嘗試將 preproc_x 替換成以每筆資料的 min/max 進行標準化至 -1 ~ 1 間，再進行訓練\n",
        "2. 請嘗試將 mlp 疊更深 (e.g 5~10 層)，進行訓練後觀察 learning curve 的走勢\n",
        "3. (optional) 請改用 GPU 進行訓練 (如果你有 GPU 的話)，比較使用 CPU 與 GPU 的訓練速度"
      ]
    },
    {
      "cell_type": "code",
      "metadata": {
        "id": "Xfn9wR-QZhc8",
        "colab_type": "code",
        "colab": {
          "base_uri": "https://localhost:8080/",
          "height": 364
        },
        "outputId": "c04eadfe-ee4e-4937-dd2e-5bd38f323b79"
      },
      "source": [
        "## \n",
        "\"\"\"\n",
        "Your code here (optional)\n",
        "確認硬體資源\n",
        "\"\"\"\n",
        "!nvidia-smi"
      ],
      "execution_count": 1,
      "outputs": [
        {
          "output_type": "stream",
          "text": [
            "Mon Jun 29 02:21:24 2020       \n",
            "+-----------------------------------------------------------------------------+\n",
            "| NVIDIA-SMI 450.36.06    Driver Version: 418.67       CUDA Version: 10.1     |\n",
            "|-------------------------------+----------------------+----------------------+\n",
            "| GPU  Name        Persistence-M| Bus-Id        Disp.A | Volatile Uncorr. ECC |\n",
            "| Fan  Temp  Perf  Pwr:Usage/Cap|         Memory-Usage | GPU-Util  Compute M. |\n",
            "|                               |                      |               MIG M. |\n",
            "|===============================+======================+======================|\n",
            "|   0  Tesla K80           Off  | 00000000:00:04.0 Off |                    0 |\n",
            "| N/A   51C    P8    32W / 149W |      0MiB / 11441MiB |      0%      Default |\n",
            "|                               |                      |                 ERR! |\n",
            "+-------------------------------+----------------------+----------------------+\n",
            "                                                                               \n",
            "+-----------------------------------------------------------------------------+\n",
            "| Processes:                                                                  |\n",
            "|  GPU   GI   CI        PID   Type   Process name                  GPU Memory |\n",
            "|        ID   ID                                                   Usage      |\n",
            "|=============================================================================|\n",
            "|  No running processes found                                                 |\n",
            "+-----------------------------------------------------------------------------+\n"
          ],
          "name": "stdout"
        }
      ]
    },
    {
      "cell_type": "code",
      "metadata": {
        "id": "t1KUD3muZhdE",
        "colab_type": "code",
        "colab": {
          "base_uri": "https://localhost:8080/",
          "height": 35
        },
        "outputId": "c7a273ab-323c-4526-9b07-6b3e58393c8e"
      },
      "source": [
        "import os\n",
        "import keras\n",
        "import numpy as np\n",
        "# 請嘗試設定 GPU：os.environ\n",
        "os.environ[\"CUDA_VISIBLE_DEVICES\"] = '0'"
      ],
      "execution_count": 2,
      "outputs": [
        {
          "output_type": "stream",
          "text": [
            "Using TensorFlow backend.\n"
          ],
          "name": "stderr"
        }
      ]
    },
    {
      "cell_type": "code",
      "metadata": {
        "id": "MJfRI14_Zhdz",
        "colab_type": "code",
        "colab": {
          "base_uri": "https://localhost:8080/",
          "height": 52
        },
        "outputId": "b63d839a-8d16-4596-b017-5148630166f0"
      },
      "source": [
        "train, test = keras.datasets.cifar10.load_data()"
      ],
      "execution_count": 3,
      "outputs": [
        {
          "output_type": "stream",
          "text": [
            "Downloading data from https://www.cs.toronto.edu/~kriz/cifar-10-python.tar.gz\n",
            "170500096/170498071 [==============================] - 2s 0us/step\n"
          ],
          "name": "stdout"
        }
      ]
    },
    {
      "cell_type": "code",
      "metadata": {
        "id": "9MjIzXgmi_M7",
        "colab_type": "code",
        "colab": {
          "base_uri": "https://localhost:8080/",
          "height": 35
        },
        "outputId": "ebb36dfa-aa44-4927-f04b-31d9c1bd8a2e"
      },
      "source": [
        "x_train, y_train = train\n",
        "x_test, y_test = test\n",
        "np.max(x_train)"
      ],
      "execution_count": 4,
      "outputs": [
        {
          "output_type": "execute_result",
          "data": {
            "text/plain": [
              "255"
            ]
          },
          "metadata": {
            "tags": []
          },
          "execution_count": 4
        }
      ]
    },
    {
      "cell_type": "code",
      "metadata": {
        "id": "qwEtRBsXZhev",
        "colab_type": "code",
        "colab": {}
      },
      "source": [
        "## 資料前處理\n",
        "\"\"\"\n",
        "Your code here\n",
        "\"\"\"\n",
        "def preproc_x(x, flatten=True):\n",
        "  x = 2*(((x - x.min()) / (x.max() - x.min()))-0.5)\n",
        "  if flatten:\n",
        "    x = x.reshape((len(x), -1))\n",
        "  return x\n",
        "\n",
        "def preproc_y(y, num_classes=10):\n",
        "  if y.shape[-1] == 1:\n",
        "    y = keras.utils.to_categorical(y, num_classes)\n",
        "  return y"
      ],
      "execution_count": 5,
      "outputs": []
    },
    {
      "cell_type": "code",
      "metadata": {
        "id": "AgDjS3XYZhe8",
        "colab_type": "code",
        "colab": {}
      },
      "source": [
        "x_train, y_train = train\n",
        "x_test, y_test = test\n",
        "\n",
        "# Preproc the inputs\n",
        "x_train = preproc_x(x_train)\n",
        "x_test = preproc_x(x_test)\n",
        "\n",
        "# Preprc the outputs\n",
        "y_train = preproc_y(y_train)\n",
        "y_test = preproc_y(y_test)"
      ],
      "execution_count": 6,
      "outputs": []
    },
    {
      "cell_type": "code",
      "metadata": {
        "id": "ZyGIQj37Zhfp",
        "colab_type": "code",
        "colab": {
          "base_uri": "https://localhost:8080/",
          "height": 399
        },
        "outputId": "08aac310-b11f-4a39-e44e-b515bb118698"
      },
      "source": [
        "\"\"\"Code Here\n",
        "建立你的神經網路\n",
        "\"\"\"\n",
        "def build_mlp(input_shape, output_units = 10, num_neurons = [512, 256, 128, 128, 128]):\n",
        "    input_layer = keras.layers.Input(input_shape)\n",
        "    for i, n_units in enumerate(num_neurons):\n",
        "        if i == 0:\n",
        "            x = keras.layers.Dense(units = n_units, activation= 'relu', name= 'hidden_layer'+str(i+1))(input_layer)\n",
        "        else:\n",
        "            x = keras.layers.Dense(units = n_units, activation= 'relu', name= 'hidden_layer'+str(i+1))(x)\n",
        "    out = keras.layers.Dense(units = output_units, activation= 'softmax', name= 'output')(x)\n",
        "    model = keras.models.Model(inputs = [input_layer], outputs = [out])\n",
        "    return model\n",
        "model = build_mlp(input_shape = x_train.shape[1:])\n",
        "model.summary()"
      ],
      "execution_count": 7,
      "outputs": [
        {
          "output_type": "stream",
          "text": [
            "Model: \"model_1\"\n",
            "_________________________________________________________________\n",
            "Layer (type)                 Output Shape              Param #   \n",
            "=================================================================\n",
            "input_1 (InputLayer)         (None, 3072)              0         \n",
            "_________________________________________________________________\n",
            "hidden_layer1 (Dense)        (None, 512)               1573376   \n",
            "_________________________________________________________________\n",
            "hidden_layer2 (Dense)        (None, 256)               131328    \n",
            "_________________________________________________________________\n",
            "hidden_layer3 (Dense)        (None, 128)               32896     \n",
            "_________________________________________________________________\n",
            "hidden_layer4 (Dense)        (None, 128)               16512     \n",
            "_________________________________________________________________\n",
            "hidden_layer5 (Dense)        (None, 128)               16512     \n",
            "_________________________________________________________________\n",
            "output (Dense)               (None, 10)                1290      \n",
            "=================================================================\n",
            "Total params: 1,771,914\n",
            "Trainable params: 1,771,914\n",
            "Non-trainable params: 0\n",
            "_________________________________________________________________\n"
          ],
          "name": "stdout"
        }
      ]
    },
    {
      "cell_type": "code",
      "metadata": {
        "id": "Xdl9CiPUZhg0",
        "colab_type": "code",
        "colab": {}
      },
      "source": [
        "## 超參數設定\n",
        "LEARNING_RATE = 0.001\n",
        "EPOCHS = 100\n",
        "BATCH_SIZE = 256"
      ],
      "execution_count": 8,
      "outputs": []
    },
    {
      "cell_type": "code",
      "metadata": {
        "id": "w6KPtDdLZhhO",
        "colab_type": "code",
        "colab": {}
      },
      "source": [
        "optimizer = keras.optimizers.Adam(lr=LEARNING_RATE)\n",
        "model.compile(loss=\"categorical_crossentropy\", metrics=[\"accuracy\"], optimizer=optimizer)"
      ],
      "execution_count": 9,
      "outputs": []
    },
    {
      "cell_type": "code",
      "metadata": {
        "id": "zOCOrhjBZhiN",
        "colab_type": "code",
        "colab": {
          "base_uri": "https://localhost:8080/",
          "height": 1000
        },
        "outputId": "e3711ad2-82c5-4310-a25d-164098e68d3a"
      },
      "source": [
        "model.fit(x_train, y_train, \n",
        "          epochs=EPOCHS, \n",
        "          batch_size=BATCH_SIZE, \n",
        "          validation_data=(x_test, y_test), \n",
        "          shuffle=True)"
      ],
      "execution_count": 10,
      "outputs": [
        {
          "output_type": "stream",
          "text": [
            "Train on 50000 samples, validate on 10000 samples\n",
            "Epoch 1/100\n",
            "50000/50000 [==============================] - 5s 93us/step - loss: 1.6878 - accuracy: 0.3986 - val_loss: 1.5294 - val_accuracy: 0.4582\n",
            "Epoch 2/100\n",
            "50000/50000 [==============================] - 3s 69us/step - loss: 1.4619 - accuracy: 0.4839 - val_loss: 1.4453 - val_accuracy: 0.4872\n",
            "Epoch 3/100\n",
            "50000/50000 [==============================] - 3s 60us/step - loss: 1.3426 - accuracy: 0.5252 - val_loss: 1.4208 - val_accuracy: 0.5015\n",
            "Epoch 4/100\n",
            "50000/50000 [==============================] - 3s 64us/step - loss: 1.2469 - accuracy: 0.5593 - val_loss: 1.3791 - val_accuracy: 0.5205\n",
            "Epoch 5/100\n",
            "50000/50000 [==============================] - 3s 63us/step - loss: 1.1638 - accuracy: 0.5873 - val_loss: 1.3589 - val_accuracy: 0.5208\n",
            "Epoch 6/100\n",
            "50000/50000 [==============================] - 3s 60us/step - loss: 1.0845 - accuracy: 0.6135 - val_loss: 1.3942 - val_accuracy: 0.5173\n",
            "Epoch 7/100\n",
            "50000/50000 [==============================] - 3s 63us/step - loss: 1.0186 - accuracy: 0.6370 - val_loss: 1.3757 - val_accuracy: 0.5324\n",
            "Epoch 8/100\n",
            "50000/50000 [==============================] - 3s 63us/step - loss: 0.9367 - accuracy: 0.6665 - val_loss: 1.3864 - val_accuracy: 0.5399\n",
            "Epoch 9/100\n",
            "50000/50000 [==============================] - 3s 62us/step - loss: 0.8726 - accuracy: 0.6885 - val_loss: 1.4385 - val_accuracy: 0.5389\n",
            "Epoch 10/100\n",
            "50000/50000 [==============================] - 3s 59us/step - loss: 0.8033 - accuracy: 0.7122 - val_loss: 1.4736 - val_accuracy: 0.5327\n",
            "Epoch 11/100\n",
            "50000/50000 [==============================] - 3s 59us/step - loss: 0.7418 - accuracy: 0.7348 - val_loss: 1.4830 - val_accuracy: 0.5387\n",
            "Epoch 12/100\n",
            "50000/50000 [==============================] - 3s 63us/step - loss: 0.6740 - accuracy: 0.7615 - val_loss: 1.6021 - val_accuracy: 0.5304\n",
            "Epoch 13/100\n",
            "50000/50000 [==============================] - 3s 61us/step - loss: 0.6187 - accuracy: 0.7824 - val_loss: 1.6865 - val_accuracy: 0.5315\n",
            "Epoch 14/100\n",
            "50000/50000 [==============================] - 3s 62us/step - loss: 0.5697 - accuracy: 0.7995 - val_loss: 1.7854 - val_accuracy: 0.5249\n",
            "Epoch 15/100\n",
            "50000/50000 [==============================] - 3s 63us/step - loss: 0.5314 - accuracy: 0.8122 - val_loss: 1.7889 - val_accuracy: 0.5293\n",
            "Epoch 16/100\n",
            "50000/50000 [==============================] - 3s 62us/step - loss: 0.4782 - accuracy: 0.8294 - val_loss: 1.8794 - val_accuracy: 0.5314\n",
            "Epoch 17/100\n",
            "50000/50000 [==============================] - 3s 63us/step - loss: 0.4412 - accuracy: 0.8426 - val_loss: 1.9529 - val_accuracy: 0.5274\n",
            "Epoch 18/100\n",
            "50000/50000 [==============================] - 3s 62us/step - loss: 0.4055 - accuracy: 0.8580 - val_loss: 2.0391 - val_accuracy: 0.5304\n",
            "Epoch 19/100\n",
            "50000/50000 [==============================] - 3s 64us/step - loss: 0.3707 - accuracy: 0.8685 - val_loss: 2.1730 - val_accuracy: 0.5282\n",
            "Epoch 20/100\n",
            "50000/50000 [==============================] - 3s 63us/step - loss: 0.3432 - accuracy: 0.8790 - val_loss: 2.3253 - val_accuracy: 0.5166\n",
            "Epoch 21/100\n",
            "50000/50000 [==============================] - 3s 62us/step - loss: 0.3182 - accuracy: 0.8881 - val_loss: 2.4499 - val_accuracy: 0.5353\n",
            "Epoch 22/100\n",
            "50000/50000 [==============================] - 3s 63us/step - loss: 0.3055 - accuracy: 0.8928 - val_loss: 2.4176 - val_accuracy: 0.5313\n",
            "Epoch 23/100\n",
            "50000/50000 [==============================] - 3s 66us/step - loss: 0.2899 - accuracy: 0.8974 - val_loss: 2.4350 - val_accuracy: 0.5282\n",
            "Epoch 24/100\n",
            "50000/50000 [==============================] - 3s 63us/step - loss: 0.2638 - accuracy: 0.9088 - val_loss: 2.6272 - val_accuracy: 0.5259\n",
            "Epoch 25/100\n",
            "50000/50000 [==============================] - 3s 63us/step - loss: 0.2587 - accuracy: 0.9081 - val_loss: 2.7605 - val_accuracy: 0.5234\n",
            "Epoch 26/100\n",
            "50000/50000 [==============================] - 3s 61us/step - loss: 0.2457 - accuracy: 0.9148 - val_loss: 2.6611 - val_accuracy: 0.5228\n",
            "Epoch 27/100\n",
            "50000/50000 [==============================] - 3s 62us/step - loss: 0.2376 - accuracy: 0.9177 - val_loss: 2.6792 - val_accuracy: 0.5233\n",
            "Epoch 28/100\n",
            "50000/50000 [==============================] - 3s 62us/step - loss: 0.2166 - accuracy: 0.9252 - val_loss: 2.8748 - val_accuracy: 0.5233\n",
            "Epoch 29/100\n",
            "50000/50000 [==============================] - 3s 63us/step - loss: 0.1999 - accuracy: 0.9308 - val_loss: 2.9547 - val_accuracy: 0.5322\n",
            "Epoch 30/100\n",
            "50000/50000 [==============================] - 3s 60us/step - loss: 0.1950 - accuracy: 0.9342 - val_loss: 2.9004 - val_accuracy: 0.5273\n",
            "Epoch 31/100\n",
            "50000/50000 [==============================] - 3s 62us/step - loss: 0.2034 - accuracy: 0.9289 - val_loss: 2.9130 - val_accuracy: 0.5239\n",
            "Epoch 32/100\n",
            "50000/50000 [==============================] - 3s 61us/step - loss: 0.1908 - accuracy: 0.9345 - val_loss: 3.1140 - val_accuracy: 0.5234\n",
            "Epoch 33/100\n",
            "50000/50000 [==============================] - 3s 61us/step - loss: 0.1728 - accuracy: 0.9408 - val_loss: 3.1155 - val_accuracy: 0.5367\n",
            "Epoch 34/100\n",
            "50000/50000 [==============================] - 3s 60us/step - loss: 0.1548 - accuracy: 0.9464 - val_loss: 3.2390 - val_accuracy: 0.5289\n",
            "Epoch 35/100\n",
            "50000/50000 [==============================] - 3s 60us/step - loss: 0.1742 - accuracy: 0.9412 - val_loss: 3.1268 - val_accuracy: 0.5221\n",
            "Epoch 36/100\n",
            "50000/50000 [==============================] - 3s 61us/step - loss: 0.1478 - accuracy: 0.9502 - val_loss: 3.4310 - val_accuracy: 0.5241\n",
            "Epoch 37/100\n",
            "50000/50000 [==============================] - 3s 60us/step - loss: 0.1828 - accuracy: 0.9372 - val_loss: 3.2368 - val_accuracy: 0.5280\n",
            "Epoch 38/100\n",
            "50000/50000 [==============================] - 3s 62us/step - loss: 0.1502 - accuracy: 0.9486 - val_loss: 3.4513 - val_accuracy: 0.5213\n",
            "Epoch 39/100\n",
            "50000/50000 [==============================] - 3s 62us/step - loss: 0.1459 - accuracy: 0.9505 - val_loss: 3.4617 - val_accuracy: 0.5250\n",
            "Epoch 40/100\n",
            "50000/50000 [==============================] - 3s 61us/step - loss: 0.1519 - accuracy: 0.9489 - val_loss: 3.5337 - val_accuracy: 0.5327\n",
            "Epoch 41/100\n",
            "50000/50000 [==============================] - 3s 61us/step - loss: 0.1574 - accuracy: 0.9455 - val_loss: 3.3024 - val_accuracy: 0.5254\n",
            "Epoch 42/100\n",
            "50000/50000 [==============================] - 3s 61us/step - loss: 0.1531 - accuracy: 0.9483 - val_loss: 3.5063 - val_accuracy: 0.5294\n",
            "Epoch 43/100\n",
            "50000/50000 [==============================] - 3s 61us/step - loss: 0.1220 - accuracy: 0.9579 - val_loss: 3.6314 - val_accuracy: 0.5261\n",
            "Epoch 44/100\n",
            "50000/50000 [==============================] - 3s 62us/step - loss: 0.1396 - accuracy: 0.9536 - val_loss: 3.4919 - val_accuracy: 0.5255\n",
            "Epoch 45/100\n",
            "50000/50000 [==============================] - 3s 64us/step - loss: 0.1400 - accuracy: 0.9527 - val_loss: 3.6451 - val_accuracy: 0.5261\n",
            "Epoch 46/100\n",
            "50000/50000 [==============================] - 3s 67us/step - loss: 0.1275 - accuracy: 0.9578 - val_loss: 3.5285 - val_accuracy: 0.5271\n",
            "Epoch 47/100\n",
            "50000/50000 [==============================] - 3s 66us/step - loss: 0.1250 - accuracy: 0.9587 - val_loss: 3.5090 - val_accuracy: 0.5281\n",
            "Epoch 48/100\n",
            "50000/50000 [==============================] - 3s 64us/step - loss: 0.1097 - accuracy: 0.9633 - val_loss: 3.6680 - val_accuracy: 0.5301\n",
            "Epoch 49/100\n",
            "50000/50000 [==============================] - 3s 61us/step - loss: 0.1309 - accuracy: 0.9558 - val_loss: 3.7289 - val_accuracy: 0.5275\n",
            "Epoch 50/100\n",
            "50000/50000 [==============================] - 3s 62us/step - loss: 0.1318 - accuracy: 0.9556 - val_loss: 3.5585 - val_accuracy: 0.5256\n",
            "Epoch 51/100\n",
            "50000/50000 [==============================] - 3s 61us/step - loss: 0.1061 - accuracy: 0.9649 - val_loss: 3.8751 - val_accuracy: 0.5244\n",
            "Epoch 52/100\n",
            "50000/50000 [==============================] - 3s 62us/step - loss: 0.1160 - accuracy: 0.9611 - val_loss: 3.6905 - val_accuracy: 0.5328\n",
            "Epoch 53/100\n",
            "50000/50000 [==============================] - 3s 65us/step - loss: 0.1181 - accuracy: 0.9606 - val_loss: 3.7012 - val_accuracy: 0.5258\n",
            "Epoch 54/100\n",
            "50000/50000 [==============================] - 3s 65us/step - loss: 0.1108 - accuracy: 0.9630 - val_loss: 3.5984 - val_accuracy: 0.5319\n",
            "Epoch 55/100\n",
            "50000/50000 [==============================] - 3s 63us/step - loss: 0.1224 - accuracy: 0.9587 - val_loss: 3.7505 - val_accuracy: 0.5316\n",
            "Epoch 56/100\n",
            "50000/50000 [==============================] - 3s 61us/step - loss: 0.0956 - accuracy: 0.9678 - val_loss: 3.8521 - val_accuracy: 0.5336\n",
            "Epoch 57/100\n",
            "50000/50000 [==============================] - 3s 64us/step - loss: 0.0966 - accuracy: 0.9687 - val_loss: 3.8403 - val_accuracy: 0.5287\n",
            "Epoch 58/100\n",
            "50000/50000 [==============================] - 3s 64us/step - loss: 0.1067 - accuracy: 0.9647 - val_loss: 3.7503 - val_accuracy: 0.5270\n",
            "Epoch 59/100\n",
            "50000/50000 [==============================] - 3s 62us/step - loss: 0.1077 - accuracy: 0.9644 - val_loss: 3.7208 - val_accuracy: 0.5352\n",
            "Epoch 60/100\n",
            "50000/50000 [==============================] - 3s 61us/step - loss: 0.0932 - accuracy: 0.9690 - val_loss: 3.9121 - val_accuracy: 0.5280\n",
            "Epoch 61/100\n",
            "50000/50000 [==============================] - 3s 62us/step - loss: 0.1225 - accuracy: 0.9594 - val_loss: 3.9840 - val_accuracy: 0.5305\n",
            "Epoch 62/100\n",
            "50000/50000 [==============================] - 3s 63us/step - loss: 0.0944 - accuracy: 0.9684 - val_loss: 4.0141 - val_accuracy: 0.5310\n",
            "Epoch 63/100\n",
            "50000/50000 [==============================] - 3s 63us/step - loss: 0.1026 - accuracy: 0.9661 - val_loss: 3.8572 - val_accuracy: 0.5244\n",
            "Epoch 64/100\n",
            "50000/50000 [==============================] - 3s 62us/step - loss: 0.0915 - accuracy: 0.9694 - val_loss: 4.0441 - val_accuracy: 0.5321\n",
            "Epoch 65/100\n",
            "50000/50000 [==============================] - 3s 63us/step - loss: 0.1073 - accuracy: 0.9642 - val_loss: 3.8736 - val_accuracy: 0.5294\n",
            "Epoch 66/100\n",
            "50000/50000 [==============================] - 3s 64us/step - loss: 0.0966 - accuracy: 0.9685 - val_loss: 3.8913 - val_accuracy: 0.5249\n",
            "Epoch 67/100\n",
            "50000/50000 [==============================] - 3s 62us/step - loss: 0.0919 - accuracy: 0.9699 - val_loss: 4.0253 - val_accuracy: 0.5347\n",
            "Epoch 68/100\n",
            "50000/50000 [==============================] - 3s 62us/step - loss: 0.0838 - accuracy: 0.9722 - val_loss: 4.1473 - val_accuracy: 0.5335\n",
            "Epoch 69/100\n",
            "50000/50000 [==============================] - 3s 63us/step - loss: 0.1050 - accuracy: 0.9657 - val_loss: 3.8570 - val_accuracy: 0.5334\n",
            "Epoch 70/100\n",
            "50000/50000 [==============================] - 3s 62us/step - loss: 0.0727 - accuracy: 0.9754 - val_loss: 4.0940 - val_accuracy: 0.5294\n",
            "Epoch 71/100\n",
            "50000/50000 [==============================] - 3s 63us/step - loss: 0.0772 - accuracy: 0.9746 - val_loss: 4.1901 - val_accuracy: 0.5304\n",
            "Epoch 72/100\n",
            "50000/50000 [==============================] - 3s 62us/step - loss: 0.1078 - accuracy: 0.9654 - val_loss: 3.9071 - val_accuracy: 0.5341\n",
            "Epoch 73/100\n",
            "50000/50000 [==============================] - 3s 64us/step - loss: 0.0877 - accuracy: 0.9715 - val_loss: 4.1752 - val_accuracy: 0.5324\n",
            "Epoch 74/100\n",
            "50000/50000 [==============================] - 3s 61us/step - loss: 0.0859 - accuracy: 0.9723 - val_loss: 3.9608 - val_accuracy: 0.5356\n",
            "Epoch 75/100\n",
            "50000/50000 [==============================] - 3s 65us/step - loss: 0.0929 - accuracy: 0.9694 - val_loss: 4.0022 - val_accuracy: 0.5295\n",
            "Epoch 76/100\n",
            "50000/50000 [==============================] - 3s 67us/step - loss: 0.0840 - accuracy: 0.9723 - val_loss: 3.9535 - val_accuracy: 0.5311\n",
            "Epoch 77/100\n",
            "50000/50000 [==============================] - 3s 64us/step - loss: 0.0856 - accuracy: 0.9720 - val_loss: 3.9994 - val_accuracy: 0.5264\n",
            "Epoch 78/100\n",
            "50000/50000 [==============================] - 3s 62us/step - loss: 0.0597 - accuracy: 0.9804 - val_loss: 4.4849 - val_accuracy: 0.5312\n",
            "Epoch 79/100\n",
            "50000/50000 [==============================] - 3s 61us/step - loss: 0.0865 - accuracy: 0.9725 - val_loss: 4.1032 - val_accuracy: 0.5272\n",
            "Epoch 80/100\n",
            "50000/50000 [==============================] - 3s 62us/step - loss: 0.0851 - accuracy: 0.9717 - val_loss: 4.1238 - val_accuracy: 0.5320\n",
            "Epoch 81/100\n",
            "50000/50000 [==============================] - 3s 63us/step - loss: 0.0705 - accuracy: 0.9775 - val_loss: 4.1186 - val_accuracy: 0.5252\n",
            "Epoch 82/100\n",
            "50000/50000 [==============================] - 3s 63us/step - loss: 0.0793 - accuracy: 0.9740 - val_loss: 4.1457 - val_accuracy: 0.5227\n",
            "Epoch 83/100\n",
            "50000/50000 [==============================] - 3s 63us/step - loss: 0.0884 - accuracy: 0.9719 - val_loss: 4.0637 - val_accuracy: 0.5258\n",
            "Epoch 84/100\n",
            "50000/50000 [==============================] - 3s 63us/step - loss: 0.0877 - accuracy: 0.9716 - val_loss: 3.9987 - val_accuracy: 0.5279\n",
            "Epoch 85/100\n",
            "50000/50000 [==============================] - 3s 63us/step - loss: 0.0779 - accuracy: 0.9750 - val_loss: 4.1876 - val_accuracy: 0.5336\n",
            "Epoch 86/100\n",
            "50000/50000 [==============================] - 3s 61us/step - loss: 0.0834 - accuracy: 0.9732 - val_loss: 3.9865 - val_accuracy: 0.5360\n",
            "Epoch 87/100\n",
            "50000/50000 [==============================] - 3s 62us/step - loss: 0.0655 - accuracy: 0.9785 - val_loss: 4.3140 - val_accuracy: 0.5288\n",
            "Epoch 88/100\n",
            "50000/50000 [==============================] - 3s 61us/step - loss: 0.0801 - accuracy: 0.9744 - val_loss: 4.0123 - val_accuracy: 0.5302\n",
            "Epoch 89/100\n",
            "50000/50000 [==============================] - 3s 62us/step - loss: 0.0639 - accuracy: 0.9796 - val_loss: 4.1598 - val_accuracy: 0.5226\n",
            "Epoch 90/100\n",
            "50000/50000 [==============================] - 3s 63us/step - loss: 0.0882 - accuracy: 0.9714 - val_loss: 4.4122 - val_accuracy: 0.5339\n",
            "Epoch 91/100\n",
            "50000/50000 [==============================] - 3s 62us/step - loss: 0.0725 - accuracy: 0.9769 - val_loss: 4.1772 - val_accuracy: 0.5288\n",
            "Epoch 92/100\n",
            "50000/50000 [==============================] - 3s 62us/step - loss: 0.0600 - accuracy: 0.9803 - val_loss: 4.5437 - val_accuracy: 0.5324\n",
            "Epoch 93/100\n",
            "50000/50000 [==============================] - 3s 61us/step - loss: 0.0886 - accuracy: 0.9716 - val_loss: 4.2887 - val_accuracy: 0.5253\n",
            "Epoch 94/100\n",
            "50000/50000 [==============================] - 3s 62us/step - loss: 0.0583 - accuracy: 0.9797 - val_loss: 4.4144 - val_accuracy: 0.5388\n",
            "Epoch 95/100\n",
            "50000/50000 [==============================] - 3s 63us/step - loss: 0.0726 - accuracy: 0.9769 - val_loss: 4.2523 - val_accuracy: 0.5313\n",
            "Epoch 96/100\n",
            "50000/50000 [==============================] - 3s 60us/step - loss: 0.0788 - accuracy: 0.9744 - val_loss: 4.0934 - val_accuracy: 0.5287\n",
            "Epoch 97/100\n",
            "50000/50000 [==============================] - 3s 59us/step - loss: 0.0661 - accuracy: 0.9794 - val_loss: 4.3589 - val_accuracy: 0.5361\n",
            "Epoch 98/100\n",
            "50000/50000 [==============================] - 3s 61us/step - loss: 0.0507 - accuracy: 0.9838 - val_loss: 4.4604 - val_accuracy: 0.5290\n",
            "Epoch 99/100\n",
            "50000/50000 [==============================] - 3s 62us/step - loss: 0.0711 - accuracy: 0.9782 - val_loss: 4.1525 - val_accuracy: 0.5275\n",
            "Epoch 100/100\n",
            "50000/50000 [==============================] - 3s 61us/step - loss: 0.0724 - accuracy: 0.9763 - val_loss: 4.1396 - val_accuracy: 0.5284\n"
          ],
          "name": "stdout"
        },
        {
          "output_type": "execute_result",
          "data": {
            "text/plain": [
              "<keras.callbacks.callbacks.History at 0x7fa22f06ff98>"
            ]
          },
          "metadata": {
            "tags": []
          },
          "execution_count": 10
        }
      ]
    },
    {
      "cell_type": "code",
      "metadata": {
        "id": "LDQo08z2Zhi4",
        "colab_type": "code",
        "colab": {
          "base_uri": "https://localhost:8080/",
          "height": 545
        },
        "outputId": "3281b120-08bd-42b9-8751-ce8ddd8d4315"
      },
      "source": [
        "import matplotlib.pyplot as plt\n",
        "\n",
        "\n",
        "train_loss = model.history.history[\"loss\"]\n",
        "valid_loss = model.history.history[\"val_loss\"]\n",
        "\n",
        "train_acc = model.history.history[\"accuracy\"]\n",
        "valid_acc = model.history.history[\"val_accuracy\"]\n",
        "\n",
        "plt.plot(range(len(train_loss)), train_loss, label=\"train loss\")\n",
        "plt.plot(range(len(valid_loss)), valid_loss, label=\"valid loss\")\n",
        "plt.legend()\n",
        "plt.title(\"Loss\")\n",
        "plt.show()\n",
        "\n",
        "plt.plot(range(len(train_acc)), train_acc, label=\"train accuracy\")\n",
        "plt.plot(range(len(valid_acc)), valid_acc, label=\"valid accuracy\")\n",
        "plt.legend()\n",
        "plt.title(\"Accuracy\")\n",
        "plt.show()"
      ],
      "execution_count": 11,
      "outputs": [
        {
          "output_type": "display_data",
          "data": {
            "image/png": "[encoded data removed]",
            "text/plain": [
              "<Figure size 432x288 with 1 Axes>"
            ]
          },
          "metadata": {
            "tags": [],
            "needs_background": "light"
          }
        },
        {
          "output_type": "display_data",
          "data": {
            "image/png": "[encoded data removed]",
            "text/plain": [
              "<Figure size 432x288 with 1 Axes>"
            ]
          },
          "metadata": {
            "tags": [],
            "needs_background": "light"
          }
        }
      ]
    },
    {
      "cell_type": "code",
      "metadata": {
        "id": "5i_pc6bhnr6t",
        "colab_type": "code",
        "colab": {}
      },
      "source": [
        ""
      ],
      "execution_count": null,
      "outputs": []
    }
  ]
}
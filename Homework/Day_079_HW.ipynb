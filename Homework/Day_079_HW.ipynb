{
  "nbformat": 4,
  "nbformat_minor": 0,
  "metadata": {
    "kernelspec": {
      "display_name": "Python 3",
      "language": "python",
      "name": "python3"
    },
    "language_info": {
      "codemirror_mode": {
        "name": "ipython",
        "version": 3
      },
      "file_extension": ".py",
      "mimetype": "text/x-python",
      "name": "python",
      "nbconvert_exporter": "python",
      "pygments_lexer": "ipython3",
      "version": "3.6.5"
    },
    "colab": {
      "name": "Day079_HW.ipynb",
      "provenance": [],
      "private_outputs": true,
      "collapsed_sections": []
    },
    "accelerator": "GPU"
  },
  "cells": [
    {
      "cell_type": "markdown",
      "metadata": {
        "id": "gG_e_zeN6vcr",
        "colab_type": "text"
      },
      "source": [
        "## Work\n",
        "1. 請比較 SGD optimizer 不同的 momentum 及使用 nesterov 與否的表現"
      ]
    },
    {
      "cell_type": "code",
      "metadata": {
        "id": "j05wWZKI6vcs",
        "colab_type": "code",
        "colab": {}
      },
      "source": [
        "import os\n",
        "import keras\n",
        "\n",
        "# 本作業可以不需使用 GPU, 將 GPU 設定為 \"無\" (若想使用可自行開啟)\n",
        "os.environ[\"CUDA_VISIBLE_DEVICES\"] = \"1\""
      ],
      "execution_count": null,
      "outputs": []
    },
    {
      "cell_type": "code",
      "metadata": {
        "id": "Qi1rJ5t76vcv",
        "colab_type": "code",
        "colab": {}
      },
      "source": [
        "train, test = keras.datasets.cifar10.load_data()"
      ],
      "execution_count": null,
      "outputs": []
    },
    {
      "cell_type": "code",
      "metadata": {
        "id": "Fy9jM2zu6vcy",
        "colab_type": "code",
        "colab": {}
      },
      "source": [
        "## 資料前處理\n",
        "def preproc_x(x, flatten=True):\n",
        "    x = x / 255.\n",
        "    if flatten:\n",
        "        x = x.reshape((len(x), -1))\n",
        "    return x\n",
        "\n",
        "def preproc_y(y, num_classes=10):\n",
        "    if y.shape[-1] == 1:\n",
        "        y = keras.utils.to_categorical(y, num_classes)\n",
        "    return y    "
      ],
      "execution_count": null,
      "outputs": []
    },
    {
      "cell_type": "code",
      "metadata": {
        "id": "38aj7SpM6vc0",
        "colab_type": "code",
        "colab": {}
      },
      "source": [
        "x_train, y_train = train\n",
        "x_test, y_test = test\n",
        "\n",
        "# 資料前處理 - X 標準化\n",
        "x_train = preproc_x(x_train)\n",
        "x_test = preproc_x(x_test)\n",
        "\n",
        "# 資料前處理 -Y 轉成 onehot\n",
        "y_train = preproc_y(y_train)\n",
        "y_test = preproc_y(y_test)"
      ],
      "execution_count": null,
      "outputs": []
    },
    {
      "cell_type": "code",
      "metadata": {
        "id": "8AIF9ZeR6vc3",
        "colab_type": "code",
        "colab": {}
      },
      "source": [
        "def build_mlp(input_shape, output_units = 10, num_neurons=[512, 256, 128]):\n",
        "    input_layer = keras.layers.Input(input_shape)\n",
        "    for i, n_units in enumerate(num_neurons):\n",
        "      if i == 0:\n",
        "        x = keras.layers.Dense(units=n_units, activation='relu', name='hidden_layer'+str(i+1))(input_layer)\n",
        "      else:\n",
        "        x = keras.layers.Dense(units=n_units, activation='relu', name='hidden_layer'+str(i+1))(x)\n",
        "    out = keras.layers.Dense(units=output_units, activation='softmax', name='output')(x)\n",
        "    model = keras.models.Model(inputs =[input_layer], outputs =[out])\n",
        "    return model"
      ],
      "execution_count": null,
      "outputs": []
    },
    {
      "cell_type": "code",
      "metadata": {
        "id": "YJOl5AtB6vc5",
        "colab_type": "code",
        "colab": {}
      },
      "source": [
        "\"\"\"Code Here\n",
        "設定超參數\n",
        "\"\"\"\n",
        "EPOCHS = 50\n",
        "LEARNING_RATE = 0.01\n",
        "BATCH_SIZE = 256\n",
        "MOMENTUM = [0, 0.5, 0.95]\n",
        "NESTEROV = [True, False]"
      ],
      "execution_count": null,
      "outputs": []
    },
    {
      "cell_type": "code",
      "metadata": {
        "scrolled": true,
        "id": "-1nvXAIg6vc8",
        "colab_type": "code",
        "colab": {}
      },
      "source": [
        "results = {}\n",
        "\"\"\"Code Here\n",
        "撰寫你的訓練流程並將結果用 dictionary 紀錄\n",
        "\"\"\"\n",
        "\n",
        "for moment in MOMENTUM:\n",
        "    keras.backend.clear_session()\n",
        "    print('experiment with MOMENTUM= %.6f, NESTETOV= %s' % (moment,nestv))\n",
        "    model = build_mlp(input_shape=x_train.shape[1:])\n",
        "    model.summary()\n",
        "    optimizer = keras.optimizers.SGD(learning_rate=LEARNING_RATE, momentum=moment, nesterov=False)\n",
        "    model.compile(loss= 'categorical_crossentropy', metrics= ['accuracy'], optimizer=optimizer)\n",
        "    model.fit(x_train, y_train, \n",
        "              epochs = EPOCHS, batch_size = BATCH_SIZE, \n",
        "              validation_data = (x_test, y_test), shuffle = True)\n",
        "    #collect result\n",
        "    train_loss = model.history.history['loss']\n",
        "    valid_loss = model.history.history['val_loss']\n",
        "    train_acc = model.history.history['accuracy']\n",
        "    valid_acc = model.history.history['val_accuracy']\n",
        "\n",
        "    exp_name_tag = 'exp-momentum-%s' %str(moment)\n",
        "    results[exp_name_tag] = {'train-loss':train_loss,\n",
        "                            'valid-loss':valid_loss,\n",
        "                              'train-accu':train_acc,\n",
        "                              'valid-accu':valid_acc}"
      ],
      "execution_count": null,
      "outputs": []
    },
    {
      "cell_type": "code",
      "metadata": {
        "id": "n_YNhzb_nH32",
        "colab_type": "code",
        "colab": {}
      },
      "source": [
        "results1 = {}\n",
        "for moment in MOMENTUM:\n",
        "    keras.backend.clear_session()\n",
        "    print('experiment with MOMENTUM= %.6f, NESTETOV= %s' % (moment,nestv))\n",
        "    model = build_mlp(input_shape=x_train.shape[1:])\n",
        "    model.summary()\n",
        "    optimizer = keras.optimizers.SGD(learning_rate=LEARNING_RATE, momentum=moment, nesterov=True)\n",
        "    model.compile(loss= 'categorical_crossentropy', metrics= ['accuracy'], optimizer=optimizer)\n",
        "    model.fit(x_train, y_train, \n",
        "              epochs = EPOCHS, batch_size = BATCH_SIZE, \n",
        "              validation_data = (x_test, y_test), shuffle = True)\n",
        "    #collect result\n",
        "    train_loss = model.history.history['loss']\n",
        "    valid_loss = model.history.history['val_loss']\n",
        "    train_acc = model.history.history['accuracy']\n",
        "    valid_acc = model.history.history['val_accuracy']\n",
        "\n",
        "    exp_name_tag = 'exp-momentum-%s' %str(moment)\n",
        "    results1[exp_name_tag] = {'train-loss':train_loss,\n",
        "                            'valid-loss':valid_loss,\n",
        "                              'train-accu':train_acc,\n",
        "                              'valid-accu':valid_acc}"
      ],
      "execution_count": null,
      "outputs": []
    },
    {
      "cell_type": "code",
      "metadata": {
        "id": "lcc0Etna6vc-",
        "colab_type": "code",
        "colab": {}
      },
      "source": [
        "import matplotlib.pyplot as plt\n",
        "%matplotlib inline\n",
        "\"\"\"Code Here\n",
        "將結果繪出\n",
        "\"\"\"\n",
        "color_bar = ['r','y', 'g', 'b', 'm', 'k']\n",
        "plt.figure(figsize=(8,6))\n",
        "for i, cond in enumerate(results.keys()):\n",
        "    plt.plot(range(len(results[cond]['train-loss'])), results[cond]['train-loss'], '-', label = cond, color = color_bar[i])\n",
        "    plt.plot(range(len(results[cond]['valid-loss'])), results[cond]['valid-loss'], '--', label = cond, color = color_bar[i])\n",
        "plt.title('Loss with Nesterov = False')\n",
        "plt.legend()\n",
        "plt.show()\n",
        "\n",
        "plt.figure(figsize=(8,6))\n",
        "for i, cond in enumerate(results.keys()):\n",
        "    plt.plot(range(len(results[cond]['train-accu'])), results[cond]['train-accu'], '-', label = cond, color = color_bar[i])\n",
        "    plt.plot(range(len(results[cond]['valid-accu'])), results[cond]['valid-accu'], '--', label = cond, color = color_bar[i])\n",
        "plt.title('Accuracy with Nesterov = False')\n",
        "plt.legend()\n",
        "plt.show()"
      ],
      "execution_count": null,
      "outputs": []
    },
    {
      "cell_type": "code",
      "metadata": {
        "id": "Oq-hJRVOq3Vz",
        "colab_type": "code",
        "colab": {}
      },
      "source": [
        "import matplotlib.pyplot as plt\n",
        "%matplotlib inline\n",
        "\"\"\"Code Here\n",
        "將結果繪出\n",
        "\"\"\"\n",
        "color_bar = ['r','y', 'g', 'b', 'm', 'k']\n",
        "plt.figure(figsize=(8,6))\n",
        "for i, cond in enumerate(results.keys()):\n",
        "    plt.plot(range(len(results1[cond]['train-loss'])), results1[cond]['train-loss'], '-', label = cond, color = color_bar[i])\n",
        "    plt.plot(range(len(results1[cond]['valid-loss'])), results1[cond]['valid-loss'], '--', label = cond, color = color_bar[i])\n",
        "plt.title('Loss with Nesterov = True')\n",
        "plt.legend()\n",
        "plt.show()\n",
        "\n",
        "plt.figure(figsize=(8,6))\n",
        "for i, cond in enumerate(results.keys()):\n",
        "    plt.plot(range(len(results1[cond]['train-accu'])), results1[cond]['train-accu'], '-', label = cond, color = color_bar[i])\n",
        "    plt.plot(range(len(results1[cond]['valid-accu'])), results1[cond]['valid-accu'], '--', label = cond, color = color_bar[i])\n",
        "plt.title('Accuracy with Nesterov = True')\n",
        "plt.legend()\n",
        "plt.show()"
      ],
      "execution_count": null,
      "outputs": []
    }
  ]
}